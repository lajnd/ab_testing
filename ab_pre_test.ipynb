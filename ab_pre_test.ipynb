{
 "cells": [
  {
   "cell_type": "code",
   "execution_count": 12,
   "metadata": {},
   "outputs": [
    {
     "name": "stdout",
     "output_type": "stream",
     "text": [
      "Week  MDE (%)   Relative MDE (%)    Visitors per Variant\n",
      "1     0.85%     28.28%              5000                \n",
      "2     0.60%     20.00%              10000               \n",
      "3     0.49%     16.33%              15000               \n",
      "4     0.42%     14.14%              20000               \n",
      "5     0.38%     12.65%              25000               \n",
      "6     0.35%     11.54%              30000               \n"
     ]
    }
   ],
   "source": [
    "import math\n",
    "from scipy.stats import norm\n",
    "\n",
    "def calculate_mde_one_sided(weekly_traffic,\n",
    "                            weekly_conversions,\n",
    "                            confidence_level,\n",
    "                            power,\n",
    "                            num_variants,\n",
    "                            weeks=[1,2,3,4,5,6]):\n",
    "    \n",
    "    # Convert confidence level and power to Z-scores for one-sided test\n",
    "    z_alpha = norm.ppf(confidence_level)  # One-sided, so no division by 2\n",
    "    z_beta = norm.ppf(power) \n",
    "\n",
    "    baseline_cr = weekly_conversions / weekly_traffic  # Baseline conversion rate\n",
    "    \n",
    "    mde_list = []\n",
    "    \n",
    "    for w in weeks:\n",
    "        # Number of users per variant after w weeks\n",
    "        total_users_per_variant = (weekly_traffic / num_variants) * w\n",
    "        \n",
    "        # Calculate MDE for w weeks (absolute)\n",
    "        mde = z_alpha * math.sqrt((2 * baseline_cr * (1 - baseline_cr)) / total_users_per_variant) + \\\n",
    "              z_beta * math.sqrt((2 * baseline_cr * (1 - baseline_cr)) / total_users_per_variant)\n",
    "        \n",
    "        # Calculate relative MDE as a percentage of the baseline conversion rate\n",
    "        relative_mde = (mde / baseline_cr) * 100\n",
    "        \n",
    "        # Append week, absolute MDE, relative MDE, and visitors per variant\n",
    "        mde_list.append((w, mde, relative_mde, total_users_per_variant))\n",
    "    \n",
    "    return mde_list\n",
    "\n",
    "# Example usage:\n",
    "weekly_traffic = 10000  # Weekly traffic (sessions or users)\n",
    "weekly_conversions =300  # Weekly conversions\n",
    "num_variants = 2  # Number of variants (including control)\n",
    "baseline_cr = 0.05  # 60% baseline conversion rate\n",
    "confidence_level = 0.95  # One-sided confidence level (95%)\n",
    "power = 0.80  # Statistical power (80%)\n",
    "\n",
    "mde_results = calculate_mde_one_sided(weekly_traffic, weekly_conversions, confidence_level, power, num_variants)\n",
    "\n",
    "# Print results\n",
    "print(f\"{'Week':<6}{'MDE (%)':<10}{'Relative MDE (%)':<20}{'Visitors per Variant':<20}\")\n",
    "for week, mde, relative_mde, visitors_per_variant in mde_results:\n",
    "    print(f\"{week:<6}{mde:.2%}     {relative_mde:.2f}%              {int(visitors_per_variant):<20}\")"
   ]
  }
 ],
 "metadata": {
  "kernelspec": {
   "display_name": ".venv",
   "language": "python",
   "name": "python3"
  },
  "language_info": {
   "codemirror_mode": {
    "name": "ipython",
    "version": 3
   },
   "file_extension": ".py",
   "mimetype": "text/x-python",
   "name": "python",
   "nbconvert_exporter": "python",
   "pygments_lexer": "ipython3",
   "version": "3.11.8"
  }
 },
 "nbformat": 4,
 "nbformat_minor": 2
}
